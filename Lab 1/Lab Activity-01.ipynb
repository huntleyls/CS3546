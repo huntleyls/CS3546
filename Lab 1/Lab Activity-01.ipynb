{
 "cells": [
  {
   "attachments": {},
   "cell_type": "markdown",
   "id": "7b7e70f9",
   "metadata": {},
   "source": [
    "Lab Activity-01"
   ]
  },
  {
   "cell_type": "code",
   "execution_count": 19,
   "id": "32b14b6a",
   "metadata": {},
   "outputs": [],
   "source": [
    "import pandas as pd # for data handling, processing, and manqagement\n",
    "import matplotlib.pyplot as plt # for visualization\n",
    "import numpy as np # for numeric calcs\n",
    "import scipy as sp # built from numpy for statistics\n",
    "import seaborn as sns # for visualization\n",
    "import ipaddress"
   ]
  },
  {
   "cell_type": "code",
   "execution_count": 1,
   "id": "61f89d2a",
   "metadata": {},
   "outputs": [
    {
     "data": {
      "text/plain": [
       "(1000000, 12)"
      ]
     },
     "execution_count": 1,
     "metadata": {},
     "output_type": "execute_result"
    }
   ],
   "source": [
    "#task 1\n",
    "import pandas as pd  \n",
    "data = pd.read_csv(\"majestic_million.csv\")   # read_csv is an object under pandas package\n",
    "data.shape"
   ]
  },
  {
   "cell_type": "code",
   "execution_count": 9,
   "id": "3d2d5ac5",
   "metadata": {
    "scrolled": true
   },
   "outputs": [
    {
     "data": {
      "text/html": [
       "<div>\n",
       "<style scoped>\n",
       "    .dataframe tbody tr th:only-of-type {\n",
       "        vertical-align: middle;\n",
       "    }\n",
       "\n",
       "    .dataframe tbody tr th {\n",
       "        vertical-align: top;\n",
       "    }\n",
       "\n",
       "    .dataframe thead th {\n",
       "        text-align: right;\n",
       "    }\n",
       "</style>\n",
       "<table border=\"1\" class=\"dataframe\">\n",
       "  <thead>\n",
       "    <tr style=\"text-align: right;\">\n",
       "      <th></th>\n",
       "      <th>GlobalRank</th>\n",
       "      <th>TldRank</th>\n",
       "      <th>Domain</th>\n",
       "      <th>TLD</th>\n",
       "      <th>RefSubNets</th>\n",
       "      <th>RefIPs</th>\n",
       "      <th>PrevGlobalRank</th>\n",
       "    </tr>\n",
       "  </thead>\n",
       "  <tbody>\n",
       "    <tr>\n",
       "      <th>51</th>\n",
       "      <td>52</td>\n",
       "      <td>1</td>\n",
       "      <td>miit.gov.cn</td>\n",
       "      <td>cn</td>\n",
       "      <td>112201</td>\n",
       "      <td>865746</td>\n",
       "      <td>52</td>\n",
       "    </tr>\n",
       "    <tr>\n",
       "      <th>52</th>\n",
       "      <td>53</td>\n",
       "      <td>1</td>\n",
       "      <td>t.co</td>\n",
       "      <td>co</td>\n",
       "      <td>112117</td>\n",
       "      <td>321953</td>\n",
       "      <td>53</td>\n",
       "    </tr>\n",
       "    <tr>\n",
       "      <th>53</th>\n",
       "      <td>54</td>\n",
       "      <td>6</td>\n",
       "      <td>w3.org</td>\n",
       "      <td>org</td>\n",
       "      <td>111544</td>\n",
       "      <td>236201</td>\n",
       "      <td>54</td>\n",
       "    </tr>\n",
       "    <tr>\n",
       "      <th>54</th>\n",
       "      <td>55</td>\n",
       "      <td>41</td>\n",
       "      <td>support.apple.com</td>\n",
       "      <td>com</td>\n",
       "      <td>111511</td>\n",
       "      <td>309634</td>\n",
       "      <td>55</td>\n",
       "    </tr>\n",
       "    <tr>\n",
       "      <th>55</th>\n",
       "      <td>56</td>\n",
       "      <td>42</td>\n",
       "      <td>forbes.com</td>\n",
       "      <td>com</td>\n",
       "      <td>111221</td>\n",
       "      <td>285022</td>\n",
       "      <td>56</td>\n",
       "    </tr>\n",
       "    <tr>\n",
       "      <th>56</th>\n",
       "      <td>57</td>\n",
       "      <td>2</td>\n",
       "      <td>ec.europa.eu</td>\n",
       "      <td>eu</td>\n",
       "      <td>110759</td>\n",
       "      <td>340576</td>\n",
       "      <td>57</td>\n",
       "    </tr>\n",
       "    <tr>\n",
       "      <th>57</th>\n",
       "      <td>58</td>\n",
       "      <td>1</td>\n",
       "      <td>forms.gle</td>\n",
       "      <td>gle</td>\n",
       "      <td>110093</td>\n",
       "      <td>272114</td>\n",
       "      <td>58</td>\n",
       "    </tr>\n",
       "    <tr>\n",
       "      <th>58</th>\n",
       "      <td>59</td>\n",
       "      <td>43</td>\n",
       "      <td>baidu.com</td>\n",
       "      <td>com</td>\n",
       "      <td>108008</td>\n",
       "      <td>568208</td>\n",
       "      <td>59</td>\n",
       "    </tr>\n",
       "    <tr>\n",
       "      <th>59</th>\n",
       "      <td>60</td>\n",
       "      <td>44</td>\n",
       "      <td>spotify.com</td>\n",
       "      <td>com</td>\n",
       "      <td>107876</td>\n",
       "      <td>300615</td>\n",
       "      <td>60</td>\n",
       "    </tr>\n",
       "    <tr>\n",
       "      <th>60</th>\n",
       "      <td>61</td>\n",
       "      <td>1</td>\n",
       "      <td>zoom.us</td>\n",
       "      <td>us</td>\n",
       "      <td>107111</td>\n",
       "      <td>254084</td>\n",
       "      <td>61</td>\n",
       "    </tr>\n",
       "  </tbody>\n",
       "</table>\n",
       "</div>"
      ],
      "text/plain": [
       "    GlobalRank  TldRank             Domain  TLD  RefSubNets  RefIPs  \\\n",
       "51          52        1        miit.gov.cn   cn      112201  865746   \n",
       "52          53        1               t.co   co      112117  321953   \n",
       "53          54        6             w3.org  org      111544  236201   \n",
       "54          55       41  support.apple.com  com      111511  309634   \n",
       "55          56       42         forbes.com  com      111221  285022   \n",
       "56          57        2       ec.europa.eu   eu      110759  340576   \n",
       "57          58        1          forms.gle  gle      110093  272114   \n",
       "58          59       43          baidu.com  com      108008  568208   \n",
       "59          60       44        spotify.com  com      107876  300615   \n",
       "60          61        1            zoom.us   us      107111  254084   \n",
       "\n",
       "    PrevGlobalRank  \n",
       "51              52  \n",
       "52              53  \n",
       "53              54  \n",
       "54              55  \n",
       "55              56  \n",
       "56              57  \n",
       "57              58  \n",
       "58              59  \n",
       "59              60  \n",
       "60              61  "
      ]
     },
     "execution_count": 9,
     "metadata": {},
     "output_type": "execute_result"
    }
   ],
   "source": [
    "#task 2\n",
    "data.loc[51:60, ~data.columns.isin(['IDN_Domain', 'IDN_TLD', 'PrevGlobalRanl', 'PrevTldRank', 'PrevRefSubNets', 'PrevRefIPs'])]"
   ]
  },
  {
   "cell_type": "code",
   "execution_count": 16,
   "id": "3674c2ab",
   "metadata": {
    "scrolled": true
   },
   "outputs": [
    {
     "name": "stdout",
     "output_type": "stream",
     "text": [
      "The amount of unique RefIPs is 16149\n"
     ]
    }
   ],
   "source": [
    "#task 3\n",
    "count = data.RefIPs.unique().size;\n",
    "print(\"The amount of unique RefIPs is \" + str(count));"
   ]
  },
  {
   "cell_type": "code",
   "execution_count": 17,
   "id": "40834244",
   "metadata": {},
   "outputs": [
    {
     "name": "stdout",
     "output_type": "stream",
     "text": [
      "The amount of unique RefSubNets is 12052\n"
     ]
    }
   ],
   "source": [
    "#task 4\n",
    "count = data.RefSubNets.unique().size;\n",
    "print(\"The amount of unique RefSubNets is \" + str(count));"
   ]
  },
  {
   "cell_type": "code",
   "execution_count": 23,
   "id": "cf195941",
   "metadata": {},
   "outputs": [
    {
     "name": "stdout",
     "output_type": "stream",
     "text": [
      "The max RefSubNets493225\n",
      "The IP is 0.7.134.169\n"
     ]
    }
   ],
   "source": [
    "#task 5\n",
    "ip = data['RefSubNets'].max();\n",
    "print(\"The max RefSubNets\" + str(ip));\n",
    "ipa = ipaddress.ip_address(ip)\n",
    "print(\"The IP is \" + str(ipa))"
   ]
  },
  {
   "cell_type": "code",
   "execution_count": 28,
   "id": "a4233f40",
   "metadata": {
    "scrolled": true
   },
   "outputs": [
    {
     "name": "stdout",
     "output_type": "stream",
     "text": [
      "The min RefSubNets265\n",
      "The IP is 0.0.1.9\n"
     ]
    }
   ],
   "source": [
    "#task 6\n",
    "ip = data['RefIPs'].min();\n",
    "print(\"The min RefSubNets\" + str(ip))\n",
    "ipa = ipaddress.ip_address(ip)\n",
    "print(\"The IP is \" + str(ipa))"
   ]
  },
  {
   "cell_type": "code",
   "execution_count": 95,
   "id": "972fb88a",
   "metadata": {},
   "outputs": [
    {
     "data": {
      "text/html": [
       "<div>\n",
       "<style scoped>\n",
       "    .dataframe tbody tr th:only-of-type {\n",
       "        vertical-align: middle;\n",
       "    }\n",
       "\n",
       "    .dataframe tbody tr th {\n",
       "        vertical-align: top;\n",
       "    }\n",
       "\n",
       "    .dataframe thead th {\n",
       "        text-align: right;\n",
       "    }\n",
       "</style>\n",
       "<table border=\"1\" class=\"dataframe\">\n",
       "  <thead>\n",
       "    <tr style=\"text-align: right;\">\n",
       "      <th></th>\n",
       "      <th>GlobalRank</th>\n",
       "      <th>TldRank</th>\n",
       "      <th>Domain</th>\n",
       "      <th>TLD</th>\n",
       "      <th>RefSubNets</th>\n",
       "      <th>RefIPs</th>\n",
       "      <th>IDN_Domain</th>\n",
       "      <th>IDN_TLD</th>\n",
       "      <th>PrevGlobalRank</th>\n",
       "      <th>PrevTldRank</th>\n",
       "      <th>PrevRefSubNets</th>\n",
       "      <th>PrevRefIPs</th>\n",
       "    </tr>\n",
       "  </thead>\n",
       "  <tbody>\n",
       "    <tr>\n",
       "      <th>8</th>\n",
       "      <td>9</td>\n",
       "      <td>1</td>\n",
       "      <td>wikipedia.org</td>\n",
       "      <td>org</td>\n",
       "      <td>271363</td>\n",
       "      <td>970017</td>\n",
       "      <td>wikipedia.org</td>\n",
       "      <td>org</td>\n",
       "      <td>9</td>\n",
       "      <td>1</td>\n",
       "      <td>271244</td>\n",
       "      <td>969824</td>\n",
       "    </tr>\n",
       "    <tr>\n",
       "      <th>10</th>\n",
       "      <td>11</td>\n",
       "      <td>2</td>\n",
       "      <td>wordpress.org</td>\n",
       "      <td>org</td>\n",
       "      <td>258631</td>\n",
       "      <td>1094038</td>\n",
       "      <td>wordpress.org</td>\n",
       "      <td>org</td>\n",
       "      <td>11</td>\n",
       "      <td>2</td>\n",
       "      <td>258572</td>\n",
       "      <td>1094514</td>\n",
       "    </tr>\n",
       "    <tr>\n",
       "      <th>12</th>\n",
       "      <td>13</td>\n",
       "      <td>3</td>\n",
       "      <td>en.wikipedia.org</td>\n",
       "      <td>org</td>\n",
       "      <td>227005</td>\n",
       "      <td>727551</td>\n",
       "      <td>en.wikipedia.org</td>\n",
       "      <td>org</td>\n",
       "      <td>13</td>\n",
       "      <td>3</td>\n",
       "      <td>226950</td>\n",
       "      <td>727270</td>\n",
       "    </tr>\n",
       "    <tr>\n",
       "      <th>28</th>\n",
       "      <td>29</td>\n",
       "      <td>4</td>\n",
       "      <td>mozilla.org</td>\n",
       "      <td>org</td>\n",
       "      <td>162322</td>\n",
       "      <td>453173</td>\n",
       "      <td>mozilla.org</td>\n",
       "      <td>org</td>\n",
       "      <td>29</td>\n",
       "      <td>4</td>\n",
       "      <td>163531</td>\n",
       "      <td>457206</td>\n",
       "    </tr>\n",
       "    <tr>\n",
       "      <th>46</th>\n",
       "      <td>47</td>\n",
       "      <td>5</td>\n",
       "      <td>apache.org</td>\n",
       "      <td>org</td>\n",
       "      <td>118713</td>\n",
       "      <td>226543</td>\n",
       "      <td>apache.org</td>\n",
       "      <td>org</td>\n",
       "      <td>47</td>\n",
       "      <td>5</td>\n",
       "      <td>118503</td>\n",
       "      <td>226169</td>\n",
       "    </tr>\n",
       "    <tr>\n",
       "      <th>...</th>\n",
       "      <td>...</td>\n",
       "      <td>...</td>\n",
       "      <td>...</td>\n",
       "      <td>...</td>\n",
       "      <td>...</td>\n",
       "      <td>...</td>\n",
       "      <td>...</td>\n",
       "      <td>...</td>\n",
       "      <td>...</td>\n",
       "      <td>...</td>\n",
       "      <td>...</td>\n",
       "      <td>...</td>\n",
       "    </tr>\n",
       "    <tr>\n",
       "      <th>999802</th>\n",
       "      <td>999803</td>\n",
       "      <td>84074</td>\n",
       "      <td>666444.org</td>\n",
       "      <td>org</td>\n",
       "      <td>264</td>\n",
       "      <td>1989</td>\n",
       "      <td>666444.org</td>\n",
       "      <td>org</td>\n",
       "      <td>-1</td>\n",
       "      <td>-1</td>\n",
       "      <td>-1</td>\n",
       "      <td>-1</td>\n",
       "    </tr>\n",
       "    <tr>\n",
       "      <th>999920</th>\n",
       "      <td>999921</td>\n",
       "      <td>84075</td>\n",
       "      <td>keine-ruhe.org</td>\n",
       "      <td>org</td>\n",
       "      <td>264</td>\n",
       "      <td>722</td>\n",
       "      <td>keine-ruhe.org</td>\n",
       "      <td>org</td>\n",
       "      <td>998114</td>\n",
       "      <td>83974</td>\n",
       "      <td>264</td>\n",
       "      <td>709</td>\n",
       "    </tr>\n",
       "    <tr>\n",
       "      <th>999954</th>\n",
       "      <td>999955</td>\n",
       "      <td>84076</td>\n",
       "      <td>japan-affiliate.org</td>\n",
       "      <td>org</td>\n",
       "      <td>264</td>\n",
       "      <td>639</td>\n",
       "      <td>japan-affiliate.org</td>\n",
       "      <td>org</td>\n",
       "      <td>993349</td>\n",
       "      <td>83603</td>\n",
       "      <td>265</td>\n",
       "      <td>640</td>\n",
       "    </tr>\n",
       "    <tr>\n",
       "      <th>999982</th>\n",
       "      <td>999983</td>\n",
       "      <td>84077</td>\n",
       "      <td>windmillharbourmarina.org</td>\n",
       "      <td>org</td>\n",
       "      <td>264</td>\n",
       "      <td>470</td>\n",
       "      <td>windmillharbourmarina.org</td>\n",
       "      <td>org</td>\n",
       "      <td>-1</td>\n",
       "      <td>-1</td>\n",
       "      <td>-1</td>\n",
       "      <td>-1</td>\n",
       "    </tr>\n",
       "    <tr>\n",
       "      <th>999999</th>\n",
       "      <td>1000000</td>\n",
       "      <td>84078</td>\n",
       "      <td>chainlinkinfo.org</td>\n",
       "      <td>org</td>\n",
       "      <td>264</td>\n",
       "      <td>420</td>\n",
       "      <td>chainlinkinfo.org</td>\n",
       "      <td>org</td>\n",
       "      <td>961356</td>\n",
       "      <td>81001</td>\n",
       "      <td>272</td>\n",
       "      <td>409</td>\n",
       "    </tr>\n",
       "  </tbody>\n",
       "</table>\n",
       "<p>88363 rows × 12 columns</p>\n",
       "</div>"
      ],
      "text/plain": [
       "        GlobalRank  TldRank                     Domain  TLD  RefSubNets  \\\n",
       "8                9        1              wikipedia.org  org      271363   \n",
       "10              11        2              wordpress.org  org      258631   \n",
       "12              13        3           en.wikipedia.org  org      227005   \n",
       "28              29        4                mozilla.org  org      162322   \n",
       "46              47        5                 apache.org  org      118713   \n",
       "...            ...      ...                        ...  ...         ...   \n",
       "999802      999803    84074                 666444.org  org         264   \n",
       "999920      999921    84075             keine-ruhe.org  org         264   \n",
       "999954      999955    84076        japan-affiliate.org  org         264   \n",
       "999982      999983    84077  windmillharbourmarina.org  org         264   \n",
       "999999     1000000    84078          chainlinkinfo.org  org         264   \n",
       "\n",
       "         RefIPs                 IDN_Domain IDN_TLD  PrevGlobalRank  \\\n",
       "8        970017              wikipedia.org     org               9   \n",
       "10      1094038              wordpress.org     org              11   \n",
       "12       727551           en.wikipedia.org     org              13   \n",
       "28       453173                mozilla.org     org              29   \n",
       "46       226543                 apache.org     org              47   \n",
       "...         ...                        ...     ...             ...   \n",
       "999802     1989                 666444.org     org              -1   \n",
       "999920      722             keine-ruhe.org     org          998114   \n",
       "999954      639        japan-affiliate.org     org          993349   \n",
       "999982      470  windmillharbourmarina.org     org              -1   \n",
       "999999      420          chainlinkinfo.org     org          961356   \n",
       "\n",
       "        PrevTldRank  PrevRefSubNets  PrevRefIPs  \n",
       "8                 1          271244      969824  \n",
       "10                2          258572     1094514  \n",
       "12                3          226950      727270  \n",
       "28                4          163531      457206  \n",
       "46                5          118503      226169  \n",
       "...             ...             ...         ...  \n",
       "999802           -1              -1          -1  \n",
       "999920        83974             264         709  \n",
       "999954        83603             265         640  \n",
       "999982           -1              -1          -1  \n",
       "999999        81001             272         409  \n",
       "\n",
       "[88363 rows x 12 columns]"
      ]
     },
     "execution_count": 95,
     "metadata": {},
     "output_type": "execute_result"
    }
   ],
   "source": [
    "#task 7\n",
    "df = data.loc[data['TLD'].isin(['edu', 'org'])];\n",
    "df"
   ]
  },
  {
   "cell_type": "code",
   "execution_count": 59,
   "id": "92814f00",
   "metadata": {},
   "outputs": [
    {
     "name": "stdout",
     "output_type": "stream",
     "text": [
      "The amount of TLD with either .edu or .org is 88363\n",
      "The amount of .org is 84078\n",
      "The amount of .edu is 4285\n",
      "the percentage of .org is 95.15%\n",
      "the percentage of .edu is 4.85%\n"
     ]
    }
   ],
   "source": [
    "#task 8\n",
    "dfa = len(df);\n",
    "print(\"The amount of TLD with either .edu or .org is \" + str(dfa));\n",
    "\n",
    "org = data['TLD'].value_counts()['org']\n",
    "print(\"The amount of .org is \"+ str(org));\n",
    "\n",
    "edu = data['TLD'].value_counts()['edu']\n",
    "print(\"The amount of .edu is \"+ str(edu));\n",
    "\n",
    "orgp = (org/dfa) * 100\n",
    "print(\"the percentage of .org is \" + \"%.2f\" % orgp +\"%\")\n",
    "\n",
    "edup = (edu/dfa) * 100\n",
    "print(\"the percentage of .edu is \" + \"%.2f\" % edup +\"%\")"
   ]
  },
  {
   "cell_type": "code",
   "execution_count": 61,
   "id": "4ca64c81",
   "metadata": {},
   "outputs": [
    {
     "data": {
      "text/plain": [
       "<AxesSubplot:>"
      ]
     },
     "execution_count": 61,
     "metadata": {},
     "output_type": "execute_result"
    },
    {
     "data": {
      "image/png": "[encoded data removed]",
      "text/plain": [
       "<Figure size 640x480 with 1 Axes>"
      ]
     },
     "metadata": {},
     "output_type": "display_data"
    }
   ],
   "source": [
    "#task 9\n",
    "df['TLD'].value_counts().plot(kind='bar')"
   ]
  },
  {
   "cell_type": "code",
   "execution_count": 77,
   "id": "435af424",
   "metadata": {},
   "outputs": [
    {
     "data": {
      "text/plain": [
       "org    84078\n",
       "edu     4285\n",
       "Name: TLD, dtype: int64"
      ]
     },
     "execution_count": 77,
     "metadata": {},
     "output_type": "execute_result"
    }
   ],
   "source": [
    "tld_list = ['edu', 'org']\n",
    "tld_df = data[data['TLD'].isin(tld_list)]\n",
    "tld_df[\"TLD\"].value_counts() "
   ]
  },
  {
   "cell_type": "code",
   "execution_count": 78,
   "id": "fd978480",
   "metadata": {},
   "outputs": [
    {
     "data": {
      "text/plain": [
       "org    0.951507\n",
       "edu    0.048493\n",
       "Name: TLD, dtype: float64"
      ]
     },
     "execution_count": 78,
     "metadata": {},
     "output_type": "execute_result"
    }
   ],
   "source": [
    "tld_df[\"TLD\"].value_counts(normalize=True)"
   ]
  },
  {
   "cell_type": "code",
   "execution_count": 92,
   "id": "18db3000",
   "metadata": {},
   "outputs": [
    {
     "data": {
      "image/png": "[encoded data removed]",
      "text/plain": [
       "<Figure size 640x480 with 1 Axes>"
      ]
     },
     "metadata": {},
     "output_type": "display_data"
    }
   ],
   "source": [
    "#task 10\n",
    "sns.boxplot(y=tld_df['GlobalRank'], x=tld_df['TLD'] , showmeans=True); "
   ]
  },
  {
   "cell_type": "code",
   "execution_count": null,
   "id": "38718f07",
   "metadata": {},
   "outputs": [],
   "source": []
  }
 ],
 "metadata": {
  "kernelspec": {
   "display_name": "Python 3 (ipykernel)",
   "language": "python",
   "name": "python3"
  },
  "language_info": {
   "codemirror_mode": {
    "name": "ipython",
    "version": 3
   },
   "file_extension": ".py",
   "mimetype": "text/x-python",
   "name": "python",
   "nbconvert_exporter": "python",
   "pygments_lexer": "ipython3",
   "version": "3.9.13"
  }
 },
 "nbformat": 4,
 "nbformat_minor": 5
}
